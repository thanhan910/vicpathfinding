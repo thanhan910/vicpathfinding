{
 "cells": [
  {
   "cell_type": "code",
   "execution_count": 1,
   "metadata": {},
   "outputs": [],
   "source": [
    "from datetime import datetime\n",
    "import matplotlib.pyplot as plt\n",
    "import psycopg2\n",
    "import pandas as pd\n",
    "import geopandas as gpd\n",
    "import numpy as np\n",
    "import json\n",
    "from sqlalchemy import create_engine, text\n",
    "from tqdm import tqdm\n",
    "from geopy.distance import geodesic\n",
    "from pymongo import MongoClient\n",
    "from shapely.geometry import Point, LineString\n",
    "\n",
    "client = MongoClient('localhost', 27017)\n",
    "\n",
    "\n",
    "# Define database connection parameters\n",
    "database_connection = {\n",
    "    'drivername': 'postgresql',\n",
    "    'username': 'postgres',\n",
    "    'password': 'postgres',\n",
    "    'host': 'localhost',\n",
    "    'port': '5432',\n",
    "    'database': 'vic_db',\n",
    "}\n",
    "\n",
    "\n",
    "# A psycopg2 connection and cursor\n",
    "conn = psycopg2.connect(user=database_connection['username'],\n",
    "                        password=database_connection['password'],\n",
    "                        host=database_connection['host'],\n",
    "                        port=database_connection['port'],\n",
    "                        database=database_connection['database'])\n",
    "conn.autocommit = True\n",
    "cursor = conn.cursor()\n",
    "\n",
    "# Create a SQLAlchemy engine\n",
    "engine = create_engine('postgresql://%(username)s:%(password)s@%(host)s/%(database)s' % database_connection, isolation_level=\"AUTOCOMMIT\")\n",
    "conn_alchemy = engine.connect()\n"
   ]
  },
  {
   "cell_type": "code",
   "execution_count": 9,
   "metadata": {},
   "outputs": [],
   "source": [
    "\n",
    "sql = '''\n",
    "SELECT *\n",
    "FROM INFORMATION_SCHEMA.COLUMNS\n",
    "WHERE TABLE_NAME = 'tr_road_all' AND TABLE_SCHEMA = 'vmtrans';\n",
    "'''\n",
    "\n",
    "cursor.execute(sql)\n",
    "data = cursor.fetchall()\n",
    "columns = [c[0] for c in cursor.description]\n",
    "df = pd.DataFrame(data, columns=columns)\n"
   ]
  },
  {
   "cell_type": "code",
   "execution_count": 18,
   "metadata": {},
   "outputs": [
    {
     "data": {
      "text/plain": [
       "array(['gid', 'class_code'], dtype=object)"
      ]
     },
     "execution_count": 18,
     "metadata": {},
     "output_type": "execute_result"
    }
   ],
   "source": [
    "['integer', 'double precision', 'character varying', 'date',\n",
    "       'USER-DEFINED']\n",
    "df[df['data_type'] == 'integer']['column_name'].values"
   ]
  },
  {
   "cell_type": "code",
   "execution_count": 22,
   "metadata": {},
   "outputs": [
    {
     "name": "stdout",
     "output_type": "stream",
     "text": [
      "set PGPASSWORD=postgres\n",
      "psql -U postgres -h localhost -p 5432 -d vic_db -c 'ALTER TABLE vmtrans.tr_road_all ALTER COLUMN ufi TYPE INTEGER USING ufi::INTEGER;'\n",
      "psql -U postgres -h localhost -p 5432 -d vic_db -c 'ALTER TABLE vmtrans.tr_road_all ALTER COLUMN pfi TYPE INTEGER USING pfi::INTEGER;'\n",
      "psql -U postgres -h localhost -p 5432 -d vic_db -c 'ALTER TABLE vmtrans.tr_road_all ALTER COLUMN named_feature_id TYPE INTEGER USING named_feature_id::INTEGER;'\n",
      "psql -U postgres -h localhost -p 5432 -d vic_db -c 'ALTER TABLE vmtrans.tr_road_all ALTER COLUMN from_ufi TYPE INTEGER USING from_ufi::INTEGER;'\n",
      "psql -U postgres -h localhost -p 5432 -d vic_db -c 'ALTER TABLE vmtrans.tr_road_all ALTER COLUMN to_ufi TYPE INTEGER USING to_ufi::INTEGER;'\n",
      "psql -U postgres -h localhost -p 5432 -d vic_db -c 'ALTER TABLE vmtrans.tr_road_all ALTER COLUMN feature_quality_id TYPE INTEGER USING feature_quality_id::INTEGER;'\n",
      "psql -U postgres -h localhost -p 5432 -d vic_db -c 'ALTER TABLE vmtrans.tr_road_all ALTER COLUMN task_id TYPE INTEGER USING task_id::INTEGER;'\n",
      "psql -U postgres -h localhost -p 5432 -d vic_db -c 'ALTER TABLE vmtrans.tr_road_all ALTER COLUMN superceded_pfi TYPE INTEGER USING superceded_pfi::INTEGER;'\n"
     ]
    }
   ],
   "source": [
    "# Cast ufi of table tr_road_all from a double to an integer then to a string\n",
    "['ufi', 'pfi', 'named_feature_id', 'from_ufi', 'to_ufi',\n",
    "       'feature_quality_id', 'task_id', 'superceded_pfi']\n",
    "double_to_int = [\n",
    "    'ufi', 'pfi', 'named_feature_id', 'from_ufi', 'to_ufi',\n",
    "    'feature_quality_id', 'task_id', 'superceded_pfi'\n",
    "]\n",
    "sql_list = [\n",
    "    f\"ALTER TABLE vmtrans.tr_road_all ALTER COLUMN {c} TYPE INTEGER USING {c}::INTEGER;\" for c in double_to_int\n",
    "]\n",
    "print(\"set PGPASSWORD=postgres\")\n",
    "for sql in sql_list:\n",
    "    print(f\"psql -U postgres -h localhost -p 5432 -d vic_db -c '{sql}'\")\n",
    "    # print(cursor.statusmessage, cursor.fetchall())"
   ]
  }
 ],
 "metadata": {
  "kernelspec": {
   "display_name": "Python 3",
   "language": "python",
   "name": "python3"
  },
  "language_info": {
   "codemirror_mode": {
    "name": "ipython",
    "version": 3
   },
   "file_extension": ".py",
   "mimetype": "text/x-python",
   "name": "python",
   "nbconvert_exporter": "python",
   "pygments_lexer": "ipython3",
   "version": "3.12.3"
  }
 },
 "nbformat": 4,
 "nbformat_minor": 2
}
