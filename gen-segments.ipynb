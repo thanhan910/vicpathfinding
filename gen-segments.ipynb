{
 "cells": [
  {
   "cell_type": "code",
   "execution_count": 1,
   "metadata": {},
   "outputs": [],
   "source": [
    "import pandas as pd\n",
    "from datetime import datetime\n",
    "import matplotlib.pyplot as plt\n",
    "import psycopg2\n",
    "import pandas as pd\n",
    "import geopandas as gpd\n",
    "import numpy as np\n",
    "import json\n",
    "import polars as pl\n",
    "from sqlalchemy import create_engine, text\n",
    "from tqdm import tqdm\n",
    "from geopy.distance import geodesic\n",
    "from pymongo import MongoClient\n",
    "from shapely.geometry import Point, LineString\n",
    "\n",
    "\n",
    "client = MongoClient('localhost', 27017)\n",
    "db = client['vic_db']\n",
    "\n",
    "# Define database connection parameters\n",
    "database_connection = {\n",
    "    'drivername': 'postgresql',\n",
    "    'username': 'postgres',\n",
    "    'password': 'postgres',\n",
    "    'host': 'localhost',\n",
    "    'port': '5432',\n",
    "    'database': 'vic_db',\n",
    "}\n",
    "\n",
    "# A psycopg2 connection and cursor\n",
    "conn = psycopg2.connect(user=database_connection['username'],\n",
    "                        password=database_connection['password'],\n",
    "                        host=database_connection['host'],\n",
    "                        port=database_connection['port'],\n",
    "                        database=database_connection['database'])\n",
    "conn.autocommit = True\n",
    "cursor = conn.cursor()\n",
    "\n",
    "# Create a SQLAlchemy engine\n",
    "engine = create_engine('postgresql://%(username)s:%(password)s@%(host)s/%(database)s' % database_connection, isolation_level=\"AUTOCOMMIT\")\n",
    "conn_alchemy = engine.connect()"
   ]
  },
  {
   "cell_type": "code",
   "execution_count": 2,
   "metadata": {},
   "outputs": [],
   "source": [
    "# sql = f\"\"\"\n",
    "# SELECT ufi, ezi_road_name_label, direction_code, road_length_meters, geom\n",
    "# FROM vmtrans.tr_road_all\n",
    "# \"\"\"\n",
    "\n",
    "# cursor.execute(\"SELECT ufi, ezi_road_name_label, direction_code, road_length_meters, geom FROM vmtrans.tr_road_all\")\n",
    "# roads = cursor.fetchall()\n",
    "# roads_df = pd.DataFrame(roads, columns=['ufi', 'ezi_road_name_label', 'direction_code', 'road_length_meters', 'geom'])\n",
    "\n",
    "sql = f\"\"\"\n",
    "SELECT ufi, ezi_road_name_label, direction_code, road_length_meters, ST_AsText(geom) as geom\n",
    "FROM vmtrans.tr_road_all\n",
    "\"\"\"\n",
    "sql = f\"\"\"\n",
    "SELECT \n",
    "    ufi,\n",
    "    ezi_road_name_label,\n",
    "    direction_code,\n",
    "    road_length_meters,\n",
    "    STRING_TO_ARRAY(\n",
    "        REGEXP_REPLACE(ST_AsText(geom), '^MULTILINESTRING\\\\(\\\\(|\\\\)\\\\)$', '', 'g'),\n",
    "        ','\n",
    "    ) AS geom_points\n",
    "FROM \n",
    "    vmtrans.tr_road_all;\n",
    "\"\"\"\n",
    "cursor.execute(sql)\n",
    "roads = cursor.fetchall()\n"
   ]
  },
  {
   "cell_type": "code",
   "execution_count": 3,
   "metadata": {},
   "outputs": [
    {
     "name": "stderr",
     "output_type": "stream",
     "text": [
      "100%|██████████| 1235086/1235086 [04:48<00:00, 4284.46it/s]  \n"
     ]
    }
   ],
   "source": [
    "segments_list = []\n",
    "for road in tqdm(roads):\n",
    "    ufi = road[0]\n",
    "    line = road[-1]\n",
    "    for segment in zip(line[:-1], line[1:]):\n",
    "        point_start = segment[0].split(' ')\n",
    "        point_end = segment[1].split(' ')\n",
    "        segments_list.append([ufi, point_start[0], point_start[1], point_end[0], point_end[1]])"
   ]
  },
  {
   "cell_type": "code",
   "execution_count": 4,
   "metadata": {},
   "outputs": [],
   "source": [
    "# Save segments_list to csv file\n",
    "segments_df = pl.DataFrame(segments_list, schema=['ufi', 'start_lon', 'start_lat', 'end_lon', 'end_lat'])\n",
    "segments_df.write_csv('segments.csv')"
   ]
  },
  {
   "cell_type": "code",
   "execution_count": 5,
   "metadata": {},
   "outputs": [],
   "source": [
    "# Insert segments_list to a new table named segments\n",
    "sql = f\"\"\"\n",
    "DROP TABLE IF EXISTS vmtrans.segments;\n",
    "CREATE TABLE vmtrans.segments (\n",
    "    ufi integer,\n",
    "    start_lon numeric,\n",
    "    start_lat numeric,\n",
    "    end_lon numeric,\n",
    "    end_lat numeric\n",
    ");\n",
    "\"\"\"\n",
    "cursor.execute(sql)\n"
   ]
  },
  {
   "cell_type": "code",
   "execution_count": null,
   "metadata": {},
   "outputs": [],
   "source": [
    "\n",
    "for segment in tqdm(segments_list):\n",
    "    point_start = segment[1].split(' ')\n",
    "    point_end = segment[2].split(' ')\n",
    "    sql = f\"\"\"\n",
    "    INSERT INTO vmtrans.segments (ufi, x1, y1, x2, y2) VALUES ({segment[0]}, {point_start[0]}, {point_start[1]}, {point_end[0]}, {point_end[1]})\n",
    "    \"\"\"\n",
    "    cursor.execute(sql)"
   ]
  },
  {
   "cell_type": "code",
   "execution_count": null,
   "metadata": {},
   "outputs": [],
   "source": [
    "sql = \"\"\"\n",
    "-- Step 1: Add the PostGIS geometry column\n",
    "ALTER TABLE vmtrans.segments \n",
    "ADD COLUMN geom geometry(LineString, 7844);\n",
    "-- Step 2: Populate the geometry column\n",
    "UPDATE vmtrans.segments\n",
    "SET geom = ST_MakeLine(ST_SetSRID(ST_MakePoint(start_lon, start_lat), 7844), ST_SetSRID(ST_MakePoint(end_lon, end_lat), 7844));\n",
    "\n",
    "-- Step 3: Create a spatial index on the geometry column\n",
    "CREATE INDEX segment_geom_idx \n",
    "ON vmtrans.segments \n",
    "USING GIST (geom);\n",
    "\"\"\"\n",
    "cursor.execute(sql)\n",
    "# 5m"
   ]
  },
  {
   "cell_type": "code",
   "execution_count": 14,
   "metadata": {},
   "outputs": [],
   "source": [
    "\n",
    "def find_nearest_road_line(lon, lat, limit=1):\n",
    "    \"\"\"\n",
    "    For a given point, for each road, find the nearest point on the road, and return the road with the shortest distance between that nearest point and the given point.\n",
    "    \"\"\"\n",
    "    sql = f\"\"\"\n",
    "    SELECT \n",
    "        ufi,\n",
    "        direction_code,\n",
    "        ST_X(ST_ClosestPoint(geom::geometry, ST_SetSRID(ST_MakePoint({lon}, {lat}), 7844))) AS closest_point_x, \n",
    "        ST_Y(ST_ClosestPoint(geom::geometry, ST_SetSRID(ST_MakePoint({lon}, {lat}), 7844))) AS closest_point_y, \n",
    "        from_ufi,\n",
    "        to_ufi\n",
    "    FROM vmtrans.tr_road_all\n",
    "    WHERE direction_code IS NOT NULL\n",
    "    ORDER BY ST_Distance(ST_ClosestPoint(geom::geometry, ST_SetSRID(ST_MakePoint({lon}, {lat}), 7844)), ST_SetSRID(ST_MakePoint({lon}, {lat}), 7844))\n",
    "    LIMIT {limit};\n",
    "    \"\"\"\n",
    "    cursor.execute(sql)\n",
    "    return cursor.fetchall()\n",
    "\n",
    "def find_nearest_road_segment(lon, lat, limit=1):\n",
    "    \"\"\"\n",
    "    For a given point, for each road, find the nearest point on the road, and return the road with the shortest distance between that nearest point and the given point.\n",
    "    \"\"\"\n",
    "    sql = f\"\"\"\n",
    "    SELECT \n",
    "        ufi,\n",
    "        start_lon, start_lat, end_lon, end_lat,\n",
    "        ST_X(ST_ClosestPoint(geom::geometry, ST_SetSRID(ST_MakePoint({lon}, {lat}), 7844))) AS closest_point_x, \n",
    "        ST_Y(ST_ClosestPoint(geom::geometry, ST_SetSRID(ST_MakePoint({lon}, {lat}), 7844))) AS closest_point_y\n",
    "    FROM vmtrans.segments\n",
    "    ORDER BY ST_Distance(ST_ClosestPoint(geom::geometry, ST_SetSRID(ST_MakePoint({lon}, {lat}), 7844)), ST_SetSRID(ST_MakePoint({lon}, {lat}), 7844))\n",
    "    LIMIT {limit};\n",
    "    \"\"\"\n",
    "    cursor.execute(sql)\n",
    "    return cursor.fetchall()"
   ]
  },
  {
   "cell_type": "code",
   "execution_count": 15,
   "metadata": {},
   "outputs": [
    {
     "data": {
      "text/plain": [
       "[(44885258,\n",
       "  Decimal('144.10242311600007'),\n",
       "  Decimal('-38.455164802999946'),\n",
       "  Decimal('144.10353345200008'),\n",
       "  Decimal('-38.45718785299994'),\n",
       "  144.10246529481194,\n",
       "  -38.45524165347164)]"
      ]
     },
     "execution_count": 15,
     "metadata": {},
     "output_type": "execute_result"
    }
   ],
   "source": [
    "find_nearest_road_segment(144.10242311600007, -38.455264802999946)"
   ]
  },
  {
   "cell_type": "code",
   "execution_count": 16,
   "metadata": {},
   "outputs": [
    {
     "data": {
      "text/plain": [
       "[(44885258, 'B', 144.10246529481194, -38.45524165347164, 15412870, 15412880)]"
      ]
     },
     "execution_count": 16,
     "metadata": {},
     "output_type": "execute_result"
    }
   ],
   "source": [
    "find_nearest_road_line(144.10242311600007, -38.455264802999946)"
   ]
  },
  {
   "cell_type": "code",
   "execution_count": null,
   "metadata": {},
   "outputs": [],
   "source": [
    "roads_df = pl.DataFrame(roads, schema=['ufi', 'ezi_road_name_label', 'direction_code', 'road_length_meters', 'geom'])"
   ]
  },
  {
   "cell_type": "code",
   "execution_count": null,
   "metadata": {},
   "outputs": [],
   "source": [
    "def extract_coords(geom: str) -> list:\n",
    "    geom = geom.replace('MULTILINESTRING((', '').replace('))', '')\n",
    "    coords = geom.split(',')\n",
    "    coords = [c.split(' ') for c in coords]\n",
    "    return coords"
   ]
  },
  {
   "cell_type": "code",
   "execution_count": null,
   "metadata": {},
   "outputs": [],
   "source": [
    "roads_df = roads_df.with_columns(pl.col('geom').str.replace('MULTILINESTRING((', '', literal=True).str.replace('))', '', literal=True).str.split(','))\n",
    "roads_df = roads_df.with_columns(pl.col('geom').list.slice(0, -1).alias('start'), pl.col('geom').list.slice(1, None).alias('end'))"
   ]
  },
  {
   "cell_type": "code",
   "execution_count": null,
   "metadata": {},
   "outputs": [],
   "source": [
    "# Explode start and end columns\n",
    "roads_df.to_dict()"
   ]
  },
  {
   "cell_type": "code",
   "execution_count": null,
   "metadata": {},
   "outputs": [],
   "source": [
    "roads_df['geom']"
   ]
  },
  {
   "cell_type": "code",
   "execution_count": null,
   "metadata": {},
   "outputs": [],
   "source": [
    "# Convert MultiLineString to a list of points\n",
    "from shapely import MultiLineString\n",
    "x : MultiLineString = gdf['geom'][0]\n",
    "def gen_segments(x : MultiLineString):    \n",
    "    xline = x.geoms[0].coords[:]\n",
    "    xsegments = [[xline[i], xline[i+1]] for i in range(len(xline)-1)]\n",
    "    return xsegments\n",
    "\n",
    "gdf['segments'] = gdf['geom'].apply(lambda x: gen_segments(x))"
   ]
  },
  {
   "cell_type": "code",
   "execution_count": null,
   "metadata": {},
   "outputs": [],
   "source": [
    "gdf.explode('segments')"
   ]
  },
  {
   "cell_type": "code",
   "execution_count": null,
   "metadata": {},
   "outputs": [],
   "source": [
    "sql = \"\"\"\n",
    "CREATE TABLE vmtrans.segments AS\n",
    "SELECT \n",
    "    ufi,\n",
    "    ST_X(point_start.geom) AS x1,\n",
    "    ST_Y(point_start.geom) AS y1,\n",
    "    ST_X(point_end.geom) AS x2,\n",
    "    ST_Y(point_end.geom) AS y2\n",
    "FROM \n",
    "    vmtrans.tr_road_all,\n",
    "    LATERAL (\n",
    "        SELECT (ST_DumpPoints(ST_LineMerge(geom))).geom AS geom, \n",
    "               generate_series(1, ST_NPoints(ST_LineMerge(geom)) - 1) AS idx \n",
    "        FROM vmtrans.tr_road_all\n",
    "    ) AS point_start\n",
    "    JOIN LATERAL (\n",
    "        SELECT (ST_DumpPoints(ST_LineMerge(geom))).geom AS geom, \n",
    "               generate_series(2, ST_NPoints(ST_LineMerge(geom))) AS idx \n",
    "        FROM vmtrans.tr_road_all\n",
    "    ) AS point_end\n",
    "ON \n",
    "    point_start.idx + 1 = point_end.idx;\n",
    "\n",
    "\"\"\"\n",
    "\n",
    "cursor.execute(sql)"
   ]
  }
 ],
 "metadata": {
  "kernelspec": {
   "display_name": "Python 3",
   "language": "python",
   "name": "python3"
  },
  "language_info": {
   "codemirror_mode": {
    "name": "ipython",
    "version": 3
   },
   "file_extension": ".py",
   "mimetype": "text/x-python",
   "name": "python",
   "nbconvert_exporter": "python",
   "pygments_lexer": "ipython3",
   "version": "3.12.7"
  }
 },
 "nbformat": 4,
 "nbformat_minor": 2
}
